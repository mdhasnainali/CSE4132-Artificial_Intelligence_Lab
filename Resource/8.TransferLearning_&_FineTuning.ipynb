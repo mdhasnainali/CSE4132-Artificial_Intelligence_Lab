{
  "nbformat": 4,
  "nbformat_minor": 0,
  "metadata": {
    "colab": {
      "provenance": []
    },
    "kernelspec": {
      "name": "python3",
      "display_name": "Python 3"
    },
    "language_info": {
      "name": "python"
    }
  },
  "cells": [
    {
      "cell_type": "markdown",
      "source": [
        "#Import necessary modules"
      ],
      "metadata": {
        "id": "y8_KvF64dj-N"
      }
    },
    {
      "cell_type": "code",
      "source": [
        "from tensorflow.keras.applications import vgg16\n",
        "from tensorflow.keras.layers import Flatten, Dense\n",
        "from tensorflow.keras.models import Model"
      ],
      "metadata": {
        "id": "P7Pnqc_tlEw9"
      },
      "execution_count": null,
      "outputs": []
    },
    {
      "cell_type": "markdown",
      "source": [
        "#Build a classifier based on a pre-trained model"
      ],
      "metadata": {
        "id": "e1UteQ-_dvUw"
      }
    },
    {
      "cell_type": "code",
      "source": [
        "# Load VGG16 with pretrained weights of the feature extractor (or backbone or Convolutional block) and without the head i.e., dense layers.\n",
        "vgg16_model = vgg16.VGG16(input_shape = (224, 224, 3), include_top = False)\n",
        "\n",
        "# Build a new model based on pre-trained VGG16\n",
        "inputs = vgg16_model.inputs\n",
        "x = vgg16_model.output\n",
        "x = Flatten()(x)\n",
        "x = Dense(256, activation = 'relu')(x)\n",
        "outputs = Dense(10, activation = 'softmax')(x)\n",
        "model = Model(inputs, outputs, name = 'NewClassifier')\n",
        "model.summary(show_trainable = True)\n"
      ],
      "metadata": {
        "colab": {
          "base_uri": "https://localhost:8080/"
        },
        "outputId": "8d814ea2-d406-4cf9-ed6d-36b334a94a7e",
        "id": "jbU_wbS7fKdM"
      },
      "execution_count": null,
      "outputs": [
        {
          "output_type": "stream",
          "name": "stdout",
          "text": [
            "Model: \"NewClassifier\"\n",
            "____________________________________________________________________________\n",
            " Layer (type)                Output Shape              Param #   Trainable  \n",
            "============================================================================\n",
            " input_4 (InputLayer)        [(None, 224, 224, 3)]     0         Y          \n",
            "                                                                            \n",
            " block1_conv1 (Conv2D)       (None, 224, 224, 64)      1792      Y          \n",
            "                                                                            \n",
            " block1_conv2 (Conv2D)       (None, 224, 224, 64)      36928     Y          \n",
            "                                                                            \n",
            " block1_pool (MaxPooling2D)  (None, 112, 112, 64)      0         Y          \n",
            "                                                                            \n",
            " block2_conv1 (Conv2D)       (None, 112, 112, 128)     73856     Y          \n",
            "                                                                            \n",
            " block2_conv2 (Conv2D)       (None, 112, 112, 128)     147584    Y          \n",
            "                                                                            \n",
            " block2_pool (MaxPooling2D)  (None, 56, 56, 128)       0         Y          \n",
            "                                                                            \n",
            " block3_conv1 (Conv2D)       (None, 56, 56, 256)       295168    Y          \n",
            "                                                                            \n",
            " block3_conv2 (Conv2D)       (None, 56, 56, 256)       590080    Y          \n",
            "                                                                            \n",
            " block3_conv3 (Conv2D)       (None, 56, 56, 256)       590080    Y          \n",
            "                                                                            \n",
            " block3_pool (MaxPooling2D)  (None, 28, 28, 256)       0         Y          \n",
            "                                                                            \n",
            " block4_conv1 (Conv2D)       (None, 28, 28, 512)       1180160   Y          \n",
            "                                                                            \n",
            " block4_conv2 (Conv2D)       (None, 28, 28, 512)       2359808   Y          \n",
            "                                                                            \n",
            " block4_conv3 (Conv2D)       (None, 28, 28, 512)       2359808   Y          \n",
            "                                                                            \n",
            " block4_pool (MaxPooling2D)  (None, 14, 14, 512)       0         Y          \n",
            "                                                                            \n",
            " block5_conv1 (Conv2D)       (None, 14, 14, 512)       2359808   Y          \n",
            "                                                                            \n",
            " block5_conv2 (Conv2D)       (None, 14, 14, 512)       2359808   Y          \n",
            "                                                                            \n",
            " block5_conv3 (Conv2D)       (None, 14, 14, 512)       2359808   Y          \n",
            "                                                                            \n",
            " block5_pool (MaxPooling2D)  (None, 7, 7, 512)         0         Y          \n",
            "                                                                            \n",
            " flatten_3 (Flatten)         (None, 25088)             0         Y          \n",
            "                                                                            \n",
            " dense_6 (Dense)             (None, 256)               6422784   Y          \n",
            "                                                                            \n",
            " dense_7 (Dense)             (None, 10)                2570      Y          \n",
            "                                                                            \n",
            "============================================================================\n",
            "Total params: 21140042 (80.64 MB)\n",
            "Trainable params: 21140042 (80.64 MB)\n",
            "Non-trainable params: 0 (0.00 Byte)\n",
            "____________________________________________________________________________\n"
          ]
        }
      ]
    },
    {
      "cell_type": "markdown",
      "source": [
        "#Freez weights of feature extractor and train only newly added head."
      ],
      "metadata": {
        "id": "GHqtNRCQe1ad"
      }
    },
    {
      "cell_type": "code",
      "source": [
        "for layer in model.layers[:-4]:\n",
        "  layer.trainable = False\n",
        "model.summary(show_trainable = True)"
      ],
      "metadata": {
        "colab": {
          "base_uri": "https://localhost:8080/"
        },
        "id": "kLWJxtaXEWjy",
        "outputId": "a45be5c2-930e-484d-9371-c23abf0a769a"
      },
      "execution_count": null,
      "outputs": [
        {
          "output_type": "stream",
          "name": "stdout",
          "text": [
            "Model: \"BinaryClassifier\"\n",
            "____________________________________________________________________________\n",
            " Layer (type)                Output Shape              Param #   Trainable  \n",
            "============================================================================\n",
            " input_8 (InputLayer)        [(None, 224, 224, 3)]     0         N          \n",
            "                                                                            \n",
            " block1_conv1 (Conv2D)       (None, 224, 224, 64)      1792      N          \n",
            "                                                                            \n",
            " block1_conv2 (Conv2D)       (None, 224, 224, 64)      36928     N          \n",
            "                                                                            \n",
            " block1_pool (MaxPooling2D)  (None, 112, 112, 64)      0         N          \n",
            "                                                                            \n",
            " block2_conv1 (Conv2D)       (None, 112, 112, 128)     73856     N          \n",
            "                                                                            \n",
            " block2_conv2 (Conv2D)       (None, 112, 112, 128)     147584    N          \n",
            "                                                                            \n",
            " block2_pool (MaxPooling2D)  (None, 56, 56, 128)       0         N          \n",
            "                                                                            \n",
            " block3_conv1 (Conv2D)       (None, 56, 56, 256)       295168    N          \n",
            "                                                                            \n",
            " block3_conv2 (Conv2D)       (None, 56, 56, 256)       590080    N          \n",
            "                                                                            \n",
            " block3_conv3 (Conv2D)       (None, 56, 56, 256)       590080    N          \n",
            "                                                                            \n",
            " block3_pool (MaxPooling2D)  (None, 28, 28, 256)       0         N          \n",
            "                                                                            \n",
            " block4_conv1 (Conv2D)       (None, 28, 28, 512)       1180160   N          \n",
            "                                                                            \n",
            " block4_conv2 (Conv2D)       (None, 28, 28, 512)       2359808   N          \n",
            "                                                                            \n",
            " block4_conv3 (Conv2D)       (None, 28, 28, 512)       2359808   N          \n",
            "                                                                            \n",
            " block4_pool (MaxPooling2D)  (None, 14, 14, 512)       0         N          \n",
            "                                                                            \n",
            " block5_conv1 (Conv2D)       (None, 14, 14, 512)       2359808   N          \n",
            "                                                                            \n",
            " block5_conv2 (Conv2D)       (None, 14, 14, 512)       2359808   N          \n",
            "                                                                            \n",
            " block5_conv3 (Conv2D)       (None, 14, 14, 512)       2359808   N          \n",
            "                                                                            \n",
            " block5_pool (MaxPooling2D)  (None, 7, 7, 512)         0         Y          \n",
            "                                                                            \n",
            " flatten_6 (Flatten)         (None, 25088)             0         Y          \n",
            "                                                                            \n",
            " dense_5 (Dense)             (None, 256)               6422784   Y          \n",
            "                                                                            \n",
            " dense_6 (Dense)             (None, 2)                 514       Y          \n",
            "                                                                            \n",
            "============================================================================\n",
            "Total params: 21137986 (80.64 MB)\n",
            "Trainable params: 6423298 (24.50 MB)\n",
            "Non-trainable params: 14714688 (56.13 MB)\n",
            "____________________________________________________________________________\n"
          ]
        }
      ]
    },
    {
      "cell_type": "markdown",
      "source": [
        "# Train model [.........This is Transfer Learning Phase............]"
      ],
      "metadata": {
        "id": "rQrLxo2Ugk-5"
      }
    },
    {
      "cell_type": "code",
      "source": [
        "model.fit(trainX, trainY, validation_split = 0.1, epochs = 50) # We need to prepare trainX, and trainY before starting training model"
      ],
      "metadata": {
        "id": "qV3pKIH4g5iS"
      },
      "execution_count": null,
      "outputs": []
    },
    {
      "cell_type": "markdown",
      "source": [
        "#Unfreez some layers of feature extractor and retrain model [ .... This is Fine-Tuning Phase .... ]"
      ],
      "metadata": {
        "id": "kkRan9VjiYJt"
      }
    },
    {
      "cell_type": "code",
      "source": [
        "# Unfreez weights of some part of feature extractor\n",
        "for layer in model.layers[-6:-4]:\n",
        "  layer.trainable = True\n",
        "model.summary(show_trainable = True)\n",
        "\n",
        "# Retrain model\n",
        "#model.fit(trainX, trainY, validation_part = 0.1, epochs = 50)"
      ],
      "metadata": {
        "colab": {
          "base_uri": "https://localhost:8080/"
        },
        "outputId": "2c2fd6b2-2abd-4dcd-84bc-777397614ad3",
        "id": "ozu_BJcvjtb_"
      },
      "execution_count": null,
      "outputs": [
        {
          "output_type": "stream",
          "name": "stdout",
          "text": [
            "Model: \"NewClassifier\"\n",
            "____________________________________________________________________________\n",
            " Layer (type)                Output Shape              Param #   Trainable  \n",
            "============================================================================\n",
            " input_2 (InputLayer)        [(None, 224, 224, 3)]     0         N          \n",
            "                                                                            \n",
            " block1_conv1 (Conv2D)       (None, 224, 224, 64)      1792      N          \n",
            "                                                                            \n",
            " block1_conv2 (Conv2D)       (None, 224, 224, 64)      36928     N          \n",
            "                                                                            \n",
            " block1_pool (MaxPooling2D)  (None, 112, 112, 64)      0         N          \n",
            "                                                                            \n",
            " block2_conv1 (Conv2D)       (None, 112, 112, 128)     73856     N          \n",
            "                                                                            \n",
            " block2_conv2 (Conv2D)       (None, 112, 112, 128)     147584    N          \n",
            "                                                                            \n",
            " block2_pool (MaxPooling2D)  (None, 56, 56, 128)       0         N          \n",
            "                                                                            \n",
            " block3_conv1 (Conv2D)       (None, 56, 56, 256)       295168    N          \n",
            "                                                                            \n",
            " block3_conv2 (Conv2D)       (None, 56, 56, 256)       590080    N          \n",
            "                                                                            \n",
            " block3_conv3 (Conv2D)       (None, 56, 56, 256)       590080    N          \n",
            "                                                                            \n",
            " block3_pool (MaxPooling2D)  (None, 28, 28, 256)       0         N          \n",
            "                                                                            \n",
            " block4_conv1 (Conv2D)       (None, 28, 28, 512)       1180160   N          \n",
            "                                                                            \n",
            " block4_conv2 (Conv2D)       (None, 28, 28, 512)       2359808   N          \n",
            "                                                                            \n",
            " block4_conv3 (Conv2D)       (None, 28, 28, 512)       2359808   N          \n",
            "                                                                            \n",
            " block4_pool (MaxPooling2D)  (None, 14, 14, 512)       0         N          \n",
            "                                                                            \n",
            " block5_conv1 (Conv2D)       (None, 14, 14, 512)       2359808   N          \n",
            "                                                                            \n",
            " block5_conv2 (Conv2D)       (None, 14, 14, 512)       2359808   Y          \n",
            "                                                                            \n",
            " block5_conv3 (Conv2D)       (None, 14, 14, 512)       2359808   Y          \n",
            "                                                                            \n",
            " block5_pool (MaxPooling2D)  (None, 7, 7, 512)         0         Y          \n",
            "                                                                            \n",
            " flatten_1 (Flatten)         (None, 25088)             0         Y          \n",
            "                                                                            \n",
            " dense_2 (Dense)             (None, 256)               6422784   Y          \n",
            "                                                                            \n",
            " dense_3 (Dense)             (None, 10)                2570      Y          \n",
            "                                                                            \n",
            "============================================================================\n",
            "Total params: 21140042 (80.64 MB)\n",
            "Trainable params: 11144970 (42.51 MB)\n",
            "Non-trainable params: 9995072 (38.13 MB)\n",
            "____________________________________________________________________________\n"
          ]
        }
      ]
    },
    {
      "cell_type": "markdown",
      "source": [
        "#Unfreez more layers of feature extractor and retrain model [ .... This is also part of Fine-Tuning Phase .... ]"
      ],
      "metadata": {
        "id": "AocmRetknx5Z"
      }
    },
    {
      "cell_type": "code",
      "source": [
        "# Unfreez weights of more layers of feature extractor\n",
        "for layer in model.layers[-9:-6]:\n",
        "  layer.trainable = True\n",
        "model.summary(show_trainable = True)\n",
        "\n",
        "# Retrain model\n",
        "#model.fit(trainX, trainY, validation_split = 0.1, epochs = 50)\n"
      ],
      "metadata": {
        "colab": {
          "base_uri": "https://localhost:8080/"
        },
        "id": "RNrJQaX3nkpb",
        "outputId": "5abdeb4a-f23f-4128-d5a5-d1b64279e54b"
      },
      "execution_count": null,
      "outputs": [
        {
          "output_type": "stream",
          "name": "stdout",
          "text": [
            "Model: \"NewClassifier\"\n",
            "____________________________________________________________________________\n",
            " Layer (type)                Output Shape              Param #   Trainable  \n",
            "============================================================================\n",
            " input_2 (InputLayer)        [(None, 224, 224, 3)]     0         N          \n",
            "                                                                            \n",
            " block1_conv1 (Conv2D)       (None, 224, 224, 64)      1792      N          \n",
            "                                                                            \n",
            " block1_conv2 (Conv2D)       (None, 224, 224, 64)      36928     N          \n",
            "                                                                            \n",
            " block1_pool (MaxPooling2D)  (None, 112, 112, 64)      0         N          \n",
            "                                                                            \n",
            " block2_conv1 (Conv2D)       (None, 112, 112, 128)     73856     N          \n",
            "                                                                            \n",
            " block2_conv2 (Conv2D)       (None, 112, 112, 128)     147584    N          \n",
            "                                                                            \n",
            " block2_pool (MaxPooling2D)  (None, 56, 56, 128)       0         N          \n",
            "                                                                            \n",
            " block3_conv1 (Conv2D)       (None, 56, 56, 256)       295168    N          \n",
            "                                                                            \n",
            " block3_conv2 (Conv2D)       (None, 56, 56, 256)       590080    N          \n",
            "                                                                            \n",
            " block3_conv3 (Conv2D)       (None, 56, 56, 256)       590080    N          \n",
            "                                                                            \n",
            " block3_pool (MaxPooling2D)  (None, 28, 28, 256)       0         N          \n",
            "                                                                            \n",
            " block4_conv1 (Conv2D)       (None, 28, 28, 512)       1180160   N          \n",
            "                                                                            \n",
            " block4_conv2 (Conv2D)       (None, 28, 28, 512)       2359808   N          \n",
            "                                                                            \n",
            " block4_conv3 (Conv2D)       (None, 28, 28, 512)       2359808   Y          \n",
            "                                                                            \n",
            " block4_pool (MaxPooling2D)  (None, 14, 14, 512)       0         Y          \n",
            "                                                                            \n",
            " block5_conv1 (Conv2D)       (None, 14, 14, 512)       2359808   Y          \n",
            "                                                                            \n",
            " block5_conv2 (Conv2D)       (None, 14, 14, 512)       2359808   Y          \n",
            "                                                                            \n",
            " block5_conv3 (Conv2D)       (None, 14, 14, 512)       2359808   Y          \n",
            "                                                                            \n",
            " block5_pool (MaxPooling2D)  (None, 7, 7, 512)         0         Y          \n",
            "                                                                            \n",
            " flatten_1 (Flatten)         (None, 25088)             0         Y          \n",
            "                                                                            \n",
            " dense_2 (Dense)             (None, 256)               6422784   Y          \n",
            "                                                                            \n",
            " dense_3 (Dense)             (None, 10)                2570      Y          \n",
            "                                                                            \n",
            "============================================================================\n",
            "Total params: 21140042 (80.64 MB)\n",
            "Trainable params: 15864586 (60.52 MB)\n",
            "Non-trainable params: 5275456 (20.12 MB)\n",
            "____________________________________________________________________________\n"
          ]
        }
      ]
    },
    {
      "cell_type": "markdown",
      "source": [
        "#Home Work: Read more details about transfer learning and fine tuning, and implement it using your own dataset.\n",
        "https://keras.io/guides/transfer_learning/"
      ],
      "metadata": {
        "id": "0TsyFCAGrjeU"
      }
    }
  ]
}