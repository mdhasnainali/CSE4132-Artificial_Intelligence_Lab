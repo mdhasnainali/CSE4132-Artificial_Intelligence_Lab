{
  "nbformat": 4,
  "nbformat_minor": 0,
  "metadata": {
    "colab": {
      "provenance": []
    },
    "kernelspec": {
      "name": "python3",
      "display_name": "Python 3"
    },
    "language_info": {
      "name": "python"
    }
  },
  "cells": [
    {
      "cell_type": "markdown",
      "source": [
        "#Import necessary modules"
      ],
      "metadata": {
        "id": "QzR8NpoSAee0"
      }
    },
    {
      "cell_type": "code",
      "execution_count": null,
      "metadata": {
        "id": "8Bx9aN9BzSi1"
      },
      "outputs": [],
      "source": [
        "from tensorflow.keras.layers import Input, Dense, Activation, Conv2D, MaxPooling2D, Flatten\n",
        "from tensorflow.keras.models import Model"
      ]
    },
    {
      "cell_type": "markdown",
      "source": [
        "# Build a simple CNN"
      ],
      "metadata": {
        "id": "Y4ZMdnN-GcAX"
      }
    },
    {
      "cell_type": "code",
      "source": [
        "inputs = Input((256, 256, 3))\n",
        "x = Conv2D(filters = 8, kernel_size = (5, 5), padding = 'same', activation = 'relu')(inputs)\n",
        "x = Flatten()(x)\n",
        "x = Dense(8, activation = 'sigmoid')(x)\n",
        "outputs = Dense(1, name = 'OutputLayer', activation = 'sigmoid')(x)\n",
        "model = Model(inputs, outputs, name = 'SimpleCNN')\n",
        "model.summary()"
      ],
      "metadata": {
        "colab": {
          "base_uri": "https://localhost:8080/"
        },
        "id": "9y1xgiaQWKoC",
        "outputId": "b86fb315-d93b-44d7-ed63-b30f5fc21897"
      },
      "execution_count": null,
      "outputs": [
        {
          "output_type": "stream",
          "name": "stdout",
          "text": [
            "Model: \"SimpleCNN\"\n",
            "_________________________________________________________________\n",
            " Layer (type)                Output Shape              Param #   \n",
            "=================================================================\n",
            " input_6 (InputLayer)        [(None, 256, 256, 3)]     0         \n",
            "                                                                 \n",
            " conv2d_5 (Conv2D)           (None, 256, 256, 8)       608       \n",
            "                                                                 \n",
            " flatten (Flatten)           (None, 524288)            0         \n",
            "                                                                 \n",
            " dense_2 (Dense)             (None, 8)                 4194312   \n",
            "                                                                 \n",
            " OutputLayer (Dense)         (None, 1)                 9         \n",
            "                                                                 \n",
            "=================================================================\n",
            "Total params: 4194929 (16.00 MB)\n",
            "Trainable params: 4194929 (16.00 MB)\n",
            "Non-trainable params: 0 (0.00 Byte)\n",
            "_________________________________________________________________\n"
          ]
        }
      ]
    },
    {
      "cell_type": "markdown",
      "source": [
        "#Build a CNN"
      ],
      "metadata": {
        "id": "1Uh-ghIkHaHp"
      }
    },
    {
      "cell_type": "code",
      "source": [
        "inputs = Input((256, 256, 3))\n",
        "x = Conv2D(filters = 8, kernel_size = (5, 5), padding = 'same', activation = 'relu')(inputs)\n",
        "x = Conv2D(filters = 8, kernel_size = (5, 5), padding = 'same', activation = 'relu')(x)\n",
        "x = MaxPooling2D()(x) # Downsampling\n",
        "x = Conv2D(filters = 16, kernel_size = (5, 5), activation = 'relu')(x)\n",
        "x = Conv2D(filters = 16, kernel_size = (5, 5), activation = 'relu')(x)\n",
        "x = Conv2D(filters = 16, kernel_size = (5, 5), strides = (2, 2), activation = 'relu')(x) # Downsampling\n",
        "x = Flatten()(x)\n",
        "x = Dense(8, activation = 'relu')(x)\n",
        "outputs = Dense(10, name = 'OutputLayer', activation = 'softmax')(x)\n",
        "model = Model(inputs, outputs, name = 'CNN')\n",
        "model.summary()"
      ],
      "metadata": {
        "colab": {
          "base_uri": "https://localhost:8080/"
        },
        "outputId": "752786ad-5dba-478e-eb58-c7c9a4af2916",
        "id": "wdhL7PMJGjPy"
      },
      "execution_count": null,
      "outputs": [
        {
          "output_type": "stream",
          "name": "stdout",
          "text": [
            "Model: \"CNN\"\n",
            "_________________________________________________________________\n",
            " Layer (type)                Output Shape              Param #   \n",
            "=================================================================\n",
            " input_10 (InputLayer)       [(None, 256, 256, 3)]     0         \n",
            "                                                                 \n",
            " conv2d_19 (Conv2D)          (None, 256, 256, 8)       608       \n",
            "                                                                 \n",
            " conv2d_20 (Conv2D)          (None, 256, 256, 8)       1608      \n",
            "                                                                 \n",
            " max_pooling2d_4 (MaxPoolin  (None, 128, 128, 8)       0         \n",
            " g2D)                                                            \n",
            "                                                                 \n",
            " conv2d_21 (Conv2D)          (None, 124, 124, 16)      3216      \n",
            "                                                                 \n",
            " conv2d_22 (Conv2D)          (None, 120, 120, 16)      6416      \n",
            "                                                                 \n",
            " conv2d_23 (Conv2D)          (None, 58, 58, 16)        6416      \n",
            "                                                                 \n",
            " flatten_3 (Flatten)         (None, 53824)             0         \n",
            "                                                                 \n",
            " dense_6 (Dense)             (None, 8)                 430600    \n",
            "                                                                 \n",
            " OutputLayer (Dense)         (None, 10)                90        \n",
            "                                                                 \n",
            "=================================================================\n",
            "Total params: 448954 (1.71 MB)\n",
            "Trainable params: 448954 (1.71 MB)\n",
            "Non-trainable params: 0 (0.00 Byte)\n",
            "_________________________________________________________________\n"
          ]
        }
      ]
    }
  ]
}